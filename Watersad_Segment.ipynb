{
  "nbformat": 4,
  "nbformat_minor": 0,
  "metadata": {
    "colab": {
      "provenance": [],
      "include_colab_link": true
    },
    "kernelspec": {
      "name": "python3",
      "display_name": "Python 3"
    },
    "language_info": {
      "name": "python"
    }
  },
  "cells": [
    {
      "cell_type": "markdown",
      "metadata": {
        "id": "view-in-github",
        "colab_type": "text"
      },
      "source": [
        "<a href=\"https://colab.research.google.com/github/hasanahmad676/Image_segmentation/blob/main/Watersad_Segment.ipynb\" target=\"_parent\"><img src=\"https://colab.research.google.com/assets/colab-badge.svg\" alt=\"Open In Colab\"/></a>"
      ]
    },
    {
      "cell_type": "code",
      "execution_count": null,
      "metadata": {
        "colab": {
          "base_uri": "https://localhost:8080/"
        },
        "id": "25jgctohZZdq",
        "outputId": "26f2985f-8a2d-4943-8c98-965099b76a6d"
      },
      "outputs": [
        {
          "output_type": "stream",
          "name": "stdout",
          "text": [
            "Segmentation complete. Segmented images are saved in the output folder.\n"
          ]
        }
      ],
      "source": [
        "import cv2\n",
        "import numpy as np\n",
        "import os\n",
        "\n",
        "# Function to apply the Watershed algorithm to an image\n",
        "def apply_watershed(image_path):\n",
        "    # Load the image\n",
        "    image = cv2.imread(image_path)\n",
        "    gray = cv2.cvtColor(image, cv2.COLOR_BGR2GRAY)\n",
        "\n",
        "    # Apply thresholding to create a binary image\n",
        "    _, thresh = cv2.threshold(gray, 0, 255, cv2.THRESH_BINARY_INV + cv2.THRESH_OTSU)\n",
        "\n",
        "    # Rest of the Watershed algorithm code (as shown in the previous answer)\n",
        "\n",
        "    return image\n",
        "\n",
        "# Folder containing the images\n",
        "input_folder = '/content/drive/MyDrive/oralwork/OralCnacer/OSCC'\n",
        "\n",
        "# Output folder to save segmented images\n",
        "output_folder = '/content/drive/MyDrive/oralwork/Output_Segment_OSCC'\n",
        "\n",
        "# Create the output folder if it doesn't exist\n",
        "if not os.path.exists(output_folder):\n",
        "    os.makedirs(output_folder)\n",
        "\n",
        "# Loop through all image files in the input folder\n",
        "for filename in os.listdir(input_folder):\n",
        "    if filename.endswith('.jpg') or filename.endswith('.png'):\n",
        "        input_image_path = os.path.join(input_folder, filename)\n",
        "        output_image_path = os.path.join(output_folder, filename)\n",
        "\n",
        "        # Apply the Watershed algorithm to the image\n",
        "        segmented_image = apply_watershed(input_image_path)\n",
        "\n",
        "        # Save the segmented image to the output folder\n",
        "        cv2.imwrite(output_image_path, segmented_image)\n",
        "\n",
        "print(\"Segmentation complete. Segmented images are saved in the output folder.\")"
      ]
    }
  ]
}