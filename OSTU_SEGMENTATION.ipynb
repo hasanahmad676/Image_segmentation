{
  "nbformat": 4,
  "nbformat_minor": 0,
  "metadata": {
    "colab": {
      "provenance": [],
      "authorship_tag": "ABX9TyNhoWjqkJEajGRhaM9RSu/K",
      "include_colab_link": true
    },
    "kernelspec": {
      "name": "python3",
      "display_name": "Python 3"
    },
    "language_info": {
      "name": "python"
    }
  },
  "cells": [
    {
      "cell_type": "markdown",
      "metadata": {
        "id": "view-in-github",
        "colab_type": "text"
      },
      "source": [
        "<a href=\"https://colab.research.google.com/github/hasanahmad676/Image_segmentation/blob/main/OSTU_SEGMENTATION.ipynb\" target=\"_parent\"><img src=\"https://colab.research.google.com/assets/colab-badge.svg\" alt=\"Open In Colab\"/></a>"
      ]
    },
    {
      "cell_type": "code",
      "execution_count": null,
      "metadata": {
        "colab": {
          "base_uri": "https://localhost:8080/"
        },
        "id": "83nxnb11plUJ",
        "outputId": "2689c940-f9be-4f8e-a9e2-4fd926b57f1d"
      },
      "outputs": [
        {
          "output_type": "stream",
          "name": "stdout",
          "text": [
            "Drive already mounted at /content/drive; to attempt to forcibly remount, call drive.mount(\"/content/drive\", force_remount=True).\n"
          ]
        }
      ],
      "source": [
        "from google.colab import drive\n",
        "drive.mount('/content/drive')\n"
      ]
    },
    {
      "cell_type": "code",
      "source": [
        "!unzip -u \"/content/drive/MyDrive/Oral Cancer.zip\" -d \"/content/drive/MyDrive/OralCnacer/oral/oral segmentation\"\n",
        "\n",
        "print('\\n\\ndone!')"
      ],
      "metadata": {
        "colab": {
          "base_uri": "https://localhost:8080/"
        },
        "id": "9pCmSTcbpu74",
        "outputId": "22a19600-e7ed-4e5f-c223-75444968779b"
      },
      "execution_count": null,
      "outputs": [
        {
          "output_type": "stream",
          "name": "stdout",
          "text": [
            "Archive:  /content/drive/MyDrive/Oral Cancer.zip\n",
            "\n",
            "\n",
            "done!\n"
          ]
        }
      ]
    },
    {
      "cell_type": "code",
      "source": [
        "import cv2\n",
        "import numpy as np\n",
        "import os\n",
        "\n",
        "# Path to the directory containing your dataset of oral cancer images\n",
        "dataset_dir = 'path_to_your_dataset_directory'\n",
        "\n",
        "# Specify the output directory for segmented images\n",
        "output_dir = 'path_to_output_directory'\n",
        "\n",
        "# Create the output directory if it doesn't exist\n",
        "os.makedirs(output_dir, exist_ok=True)\n",
        "\n",
        "# List all image files in the dataset directory\n",
        "image_files = [f for f in os.listdir(dataset_dir) if f.endswith(('.png', '.jpg', '.jpeg'))]\n",
        "\n",
        "# Process each image in the dataset\n",
        "for image_file in image_files:\n",
        "    # Load the histopathological oral cancer image\n",
        "    image_path = os.path.join(dataset_dir, image_file)\n",
        "    image = cv2.imread(image_path)\n",
        "\n",
        "    # Convert the image to grayscale\n",
        "    gray = cv2.cvtColor(image, cv2.COLOR_BGR2GRAY)\n",
        "\n",
        "    # Apply Otsu's thresholding to segment the image\n",
        "    _, segmented_image = cv2.threshold(gray, 0, 255, cv2.THRESH_BINARY + cv2.THRESH_OTSU)\n",
        "\n",
        "    # Save the segmented image in the output directory\n",
        "    segmented_image_path = os.path.join(output_dir, f'segmented_{image_file}')\n",
        "    cv2.imwrite(segmented_image_path, segmented_image)\n"
      ],
      "metadata": {
        "id": "edp9mt4-pu_s"
      },
      "execution_count": null,
      "outputs": []
    },
    {
      "cell_type": "code",
      "source": [],
      "metadata": {
        "id": "2bRRqRQsqMU1"
      },
      "execution_count": null,
      "outputs": []
    },
    {
      "cell_type": "code",
      "source": [],
      "metadata": {
        "id": "Xr_6BRnvqMXc"
      },
      "execution_count": null,
      "outputs": []
    },
    {
      "cell_type": "code",
      "source": [],
      "metadata": {
        "id": "PsmDtp6ZqMaR"
      },
      "execution_count": null,
      "outputs": []
    },
    {
      "cell_type": "code",
      "source": [],
      "metadata": {
        "id": "KqcYabkgpvCl"
      },
      "execution_count": null,
      "outputs": []
    }
  ]
}